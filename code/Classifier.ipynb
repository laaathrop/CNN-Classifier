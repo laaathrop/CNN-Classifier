{
 "cells": [
  {
   "cell_type": "code",
   "execution_count": 0,
   "metadata": {
    "colab": {},
    "colab_type": "code",
    "id": "MOKfKSeTcYyR"
   },
   "outputs": [],
   "source": [
    "# Imports\n",
    "import numpy as np\n",
    "import pickle\n",
    "import pandas as pd\n",
    "import numpy as np\n",
    "import matplotlib.pyplot as plt\n",
    "\n",
    "# For functions pertaining to the operating system\n",
    "import os\n",
    "\n",
    "# Module for working with URLs\n",
    "import urllib\n",
    "\n",
    "# For performing operations on zip files\n",
    "import zipfile\n",
    "\n",
    "# Makes it possible to read and write tar archives including gzip, bz2 and lzma compression\n",
    "import tarfile\n",
    "\n",
    "# Module for working with URLs\n",
    "from six.moves import urllib\n",
    "\n",
    "# Deep Learning\n",
    "import tensorflow as tf\n",
    "from tensorflow.contrib.training import HParams\n",
    "from tensorflow.keras import Model\n",
    "from tensorflow.keras.layers import Dense, Conv2D, Activation, Flatten\n",
    "from tensorflow.keras.layers import BatchNormalization, AveragePooling2D, Input, MaxPooling2D, Dropout\n",
    "from tensorflow.keras.preprocessing.image import ImageDataGenerator\n",
    "from tensorflow.python.keras.models import Sequential\n",
    "from tensorflow.keras.wrappers.scikit_learn import KerasRegressor\n",
    "from sklearn.preprocessing import StandardScaler\n",
    "from sklearn.model_selection import train_test_split, GridSearchCV"
   ]
  },
  {
   "cell_type": "code",
   "execution_count": 0,
   "metadata": {
    "colab": {},
    "colab_type": "code",
    "id": "8nO3ZOEXgnYe"
   },
   "outputs": [],
   "source": [
    "# Define Hyperparameters\n",
    "params = HParams(\n",
    "    \n",
    "    n_classes=100, # Number of classes in the Cifar 100 dataset\n",
    "    learning_rate=1e-4, # How much to change the model in response to the estimated error each time the weights are updated\n",
    "    train_batch_size=32, # Training batch size; number of data points in one forward/backward pass\n",
    "    val_batch_size=32, # Batch size for validation; number of data points in one forward/backward pass\n",
    "    test_batch_size=32, # Testing batch size; number of data points in one forward/backward pass\n",
    "    n_epochs=10, # One epoch is equivalent to one forward and one backward pass of all training data points\n",
    "    input_name='input_one', # Name of NN input layer\n",
    "    data_dir='/tmp/cifar-data/', # Path to data\n",
    "    checkpoint_dir = '/tmp/checkpoints/' # Path to model checkpoints\n",
    "\n",
    ")"
   ]
  },
  {
   "cell_type": "code",
   "execution_count": 0,
   "metadata": {
    "colab": {},
    "colab_type": "code",
    "id": "63_hSJvQ0Yzo"
   },
   "outputs": [],
   "source": [
    "# Data download URL\n",
    "download_url = \"http://www.cs.utoronto.ca/~kriz/cifar-100-python.tar.gz\"\n",
    "\n",
    "# Dimension of the square image\n",
    "n_pixels = 32\n",
    "\n",
    "# R, G and B channels\n",
    "n_channels = 3\n",
    "\n",
    "# Length of flattened image\n",
    "size_flat = n_pixels * n_pixels * n_channels\n",
    "\n",
    "# Number of classes considered\n",
    "n_classes = params.n_classes\n",
    "\n",
    "# Quantity of files in the original dataset\n",
    "_n_files_train = 1\n",
    "\n",
    "# Number of images per pickled file in the trainig data\n",
    "_n_images_per_file = 60000\n",
    "\n",
    "# Quantity of training images\n",
    "_n_images_train = _n_files_train * _n_files_train"
   ]
  },
  {
   "cell_type": "code",
   "execution_count": 0,
   "metadata": {
    "colab": {},
    "colab_type": "code",
    "id": "BJpOzA9y1_b1"
   },
   "outputs": [],
   "source": [
    "def download_extract_data(url=download_url, destination=params.data_dir):\n",
    "    \"\"\"\n",
    "    Description - Utilize urllib to download; Extract the data into the  \n",
    "                  directory specified by the params class.\n",
    "\n",
    "    Returns - N/A\n",
    "    \"\"\"\n",
    "\n",
    "    # Set filename\n",
    "    filename = url.split('/')[-1]\n",
    "\n",
    "    # Create the final file path\n",
    "    full_file_path = os.path.join(destination, filename)\n",
    "\n",
    "    # If the file does not exist, \n",
    "    if not os.path.exists(full_file_path):\n",
    "\n",
    "        # If the directory does not exist,\n",
    "        if not os.path.exists(destination):\n",
    "\n",
    "            # Create the needed directory \n",
    "            os.makedirs(destination)\n",
    "\n",
    "        # Download the dataset using urllib\n",
    "        full_file_path, _ = urllib.request.urlretrieve(url=url, filename=full_file_path)\n",
    "\n",
    "        # Print a status message\n",
    "        print()\n",
    "        print(\"Step (1/2) - Files have been downloaded.\")\n",
    "\n",
    "        # If we are dealing with a zip file,\n",
    "        if full_file_path.endswith(\".zip\"):\n",
    "\n",
    "            # extract the zipfile into the desitnation directory\n",
    "            zipfile.ZipFile(file=full_file_path, mode=\"r\").extractall(destination)\n",
    "\n",
    "        # If we are dealing with a tar file, extract with tarfile\n",
    "        elif full_file_path.endswith((\".tar.gz\", \".tgz\")):\n",
    "\n",
    "            # Extract the tarfile into the desitnation directory\n",
    "            tarfile.open(name=full_file_path, mode=\"r:gz\").extractall(destination)\n",
    "\n",
    "            # Print a status message\n",
    "            print(\"Step (2/2) - Files have been extracted.\")\n",
    "\n",
    "    # If the data does exist, \n",
    "    else:\n",
    "\n",
    "        # Print a status message\n",
    "        print(\"Data has apparently already been saved locally and extracted.\")"
   ]
  },
  {
   "cell_type": "code",
   "execution_count": 0,
   "metadata": {
    "colab": {},
    "colab_type": "code",
    "id": "h1gF2y-uKQvo"
   },
   "outputs": [],
   "source": [
    "def _get_file_path(filename=\"\"):\n",
    "    \"\"\"\n",
    "    Description - Assembles the full file path location given the name of the\n",
    "                  desired file.\n",
    "    \"\"\"\n",
    "\n",
    "    # Use the join method to create the path\n",
    "    return os.path.join(params.data_dir, \"cifar-100-python/\", filename)"
   ]
  },
  {
   "cell_type": "code",
   "execution_count": 0,
   "metadata": {
    "colab": {},
    "colab_type": "code",
    "id": "Nz826-MrL4dc"
   },
   "outputs": [],
   "source": [
    "def _unpickle(filename):\n",
    "    \"\"\"\n",
    "    Description - Unpickle (de-serialize) the given file pieces and return the \n",
    "                  aggregated data chunk.\n",
    "    \n",
    "    Returns - Unpickled data that is ready to be passed into _convert_images for\n",
    "              processing.\n",
    "    \"\"\"\n",
    "\n",
    "    # Get the file path using the function defined above\n",
    "    full_file_path = _get_file_path(filename)\n",
    "\n",
    "    # Print a status message\n",
    "    print(\"Currently loading data from: \" + full_file_path)\n",
    "\n",
    "    # Open the file located at file_path\n",
    "    with open(full_file_path, mode='rb') as file:\n",
    "\n",
    "        # Load the data into a new variable using Pickle's load method\n",
    "        data = pickle.load(file, encoding='bytes')\n",
    "\n",
    "    return data"
   ]
  },
  {
   "cell_type": "code",
   "execution_count": 0,
   "metadata": {
    "colab": {},
    "colab_type": "code",
    "id": "V34c8ImFPXgU"
   },
   "outputs": [],
   "source": [
    "def _convert_images(raw_data):\n",
    "    \"\"\"\n",
    "    Description - Populate a Numpy array, scale, preprocess and reshape image  \n",
    "                  data so that it is ready for modeling.\n",
    "   \n",
    "    Returns - The preprocessed and scaled image data.\n",
    "    \"\"\"\n",
    "\n",
    "    # Scale the pixel data\n",
    "    scaled_data = np.array(raw_data, dtype=float) / 255.0\n",
    "\n",
    "    # Change the shape of the array to 4-D\n",
    "    images = scaled_data.reshape([-1, n_channels, n_pixels, n_pixels])\n",
    "\n",
    "    # Reindex the array\n",
    "    images = images.transpose([0, 2, 3, 1])\n",
    "\n",
    "    return images"
   ]
  },
  {
   "cell_type": "code",
   "execution_count": 0,
   "metadata": {
    "colab": {},
    "colab_type": "code",
    "id": "ih3F_4xkSa5i"
   },
   "outputs": [],
   "source": [
    "def _load_data(filename):\n",
    "    \"\"\"\n",
    "    Description - Unpickles (de-serializes) the input file and converts the data\n",
    "                  to the data shape specified in the _convert_images function.\n",
    "    \n",
    "    Returns - The converted data and both class labels assigned to each image.\n",
    "    \"\"\"\n",
    "\n",
    "    # Unpickle the data\n",
    "    data = _unpickle(filename)\n",
    "\n",
    "    # Retrieve the raw image pixel data\n",
    "    raw_images = data[b'data']\n",
    "\n",
    "    # Arrange the coarse class labels into a numpy array\n",
    "    coarse = np.array(data[b'coarse_labels'])\n",
    "\n",
    "    # Arrange the coarse class labels into a numpy array\n",
    "    fine = np.array(data[b'fine_labels'])\n",
    "\n",
    "    # Convert the image pixel size/orientation\n",
    "    images = _convert_images(raw_images)\n",
    "\n",
    "    return images, coarse, fine"
   ]
  },
  {
   "cell_type": "code",
   "execution_count": 0,
   "metadata": {
    "colab": {},
    "colab_type": "code",
    "id": "wPribww2Wbzp"
   },
   "outputs": [],
   "source": [
    "def load_class_names():\n",
    "    \"\"\"\n",
    "    Description - Unpickles and builds a list of class names from the raw class\n",
    "                  label names.\n",
    "    \n",
    "    Returns - The converted data and both class labels assigned to each image.\n",
    "    \"\"\"\n",
    "\n",
    "    # Unpickle the file and access the coarse class label names\n",
    "    raw_coarse = _unpickle(filename=\"meta\")[b'coarse_labels']\n",
    "\n",
    "    # Unpickle the file and access the fine class label names\n",
    "    raw_fine = _unpickle(filename=\"meta\")[b'fine_labels']\n",
    "\n",
    "    # Build a list of coarse classes\n",
    "    coarse_names = [x.decode('utf-8') for x in raw_coarse]\n",
    "\n",
    "    # Build a list of fine classes\n",
    "    fine_names = [x.decode('utf-8') for x in raw_fine]\n",
    "\n",
    "    return coarse_names, fine_names"
   ]
  },
  {
   "cell_type": "code",
   "execution_count": 0,
   "metadata": {
    "colab": {},
    "colab_type": "code",
    "id": "61VRsgsVXK4W"
   },
   "outputs": [],
   "source": [
    "def load_training_data():\n",
    "    \"\"\"\n",
    "    Description - Builds numpy arrays containing the image data and the class \n",
    "                  labels from the Cifar 100 training data.\n",
    "\n",
    "    Returns - The images and both class labels for each training image data  \n",
    "              point in the set.\n",
    "    \"\"\"\n",
    "\n",
    "    # Allocate memory for the images\n",
    "    images = np.zeros(shape=[_n_images_train, n_pixels, n_pixels, n_channels], dtype=float)\n",
    "\n",
    "    # Allocate memory for the coarse class labels\n",
    "    coarse = np.zeros(shape=[_n_images_train], dtype=int)\n",
    "\n",
    "    # Allocate memory for the coarse class labels\n",
    "    fine = np.zeros(shape=[_n_images_train], dtype=int)\n",
    "\n",
    "    # Load image pixel data, coarse class and fine class data\n",
    "    images, coarse, fine = _load_data(filename=\"train\")\n",
    "    \n",
    "    return images, coarse, fine"
   ]
  },
  {
   "cell_type": "code",
   "execution_count": 0,
   "metadata": {
    "colab": {},
    "colab_type": "code",
    "id": "xjbAfESxUQ3c"
   },
   "outputs": [],
   "source": [
    "def load_validation_data():\n",
    "    \"\"\"\n",
    "    Description - Loads 5000 data points from the test batch file of the Cifar\n",
    "                  100 dataset to be used for validation.\n",
    "\n",
    "    Returns - The images and both class labels for each validation image data  \n",
    "              point in the set.\n",
    "    \"\"\"\n",
    "\n",
    "    # Load the images and class labels from the test batch file\n",
    "    images, coarse, fine = _load_data(filename=\"test\")\n",
    "\n",
    "    # Define the validation data to be all but the first 5000 data points\n",
    "    images = images[5000:, :, :, :]\n",
    "    coarse = coarse[5000:]\n",
    "    fine = fine[5000:]\n",
    "\n",
    "    return images, coarse, fine"
   ]
  },
  {
   "cell_type": "code",
   "execution_count": 0,
   "metadata": {
    "colab": {},
    "colab_type": "code",
    "id": "_l7yYF0tKFdf"
   },
   "outputs": [],
   "source": [
    "def load_testing_data():\n",
    "    \"\"\"\n",
    "    Description - Loads 5000 data points from the test batch file of the Cifar\n",
    "                  100 dataset to be used for testing.\n",
    "\n",
    "    Returns - The images and both class labels for each testing image data point \n",
    "              in the set.\n",
    "    \"\"\"\n",
    "\n",
    "    # Load the unpickled and converted data\n",
    "    images, coarse, fine = _load_data(filename=\"test\")\n",
    "\n",
    "    # Define the testing data to be the first 5000 data points\n",
    "    images = images[:5000, :, :, :]\n",
    "    coarse = coarse[:5000]\n",
    "    fine = fine[:5000]\n",
    "\n",
    "    return images, coarse, fine"
   ]
  },
  {
   "cell_type": "code",
   "execution_count": 52,
   "metadata": {
    "colab": {
     "base_uri": "https://localhost:8080/",
     "height": 34
    },
    "colab_type": "code",
    "executionInfo": {
     "elapsed": 1618,
     "status": "ok",
     "timestamp": 1575501637328,
     "user": {
      "displayName": "Anthony Lathrop",
      "photoUrl": "",
      "userId": "09824446360736258535"
     },
     "user_tz": 480
    },
    "id": "PnKWoI-Ozu2z",
    "outputId": "6ff5cf94-8ecf-476c-e888-ecbbedf5bc7d"
   },
   "outputs": [
    {
     "name": "stdout",
     "output_type": "stream",
     "text": [
      "Data has apparently already been saved locally and extracted.\n"
     ]
    }
   ],
   "source": [
    "# Set up model variables\n",
    "download_extract_data()\n",
    "X_train, c_train, f_train = load_training_data()\n",
    "X_val, c_val, f_val = load_validation_data()\n",
    "X_test, c_test, f_test = load_testing_data()"
   ]
  },
  {
   "cell_type": "code",
   "execution_count": 0,
   "metadata": {
    "colab": {},
    "colab_type": "code",
    "id": "PIm2n52vis9b"
   },
   "outputs": [],
   "source": [
    "# Create Convolutional Neural Network\n",
    "cnn = Sequential()\n",
    "\n",
    "# Convolutional Layer\n",
    "cnn.add(Conv2D(filters=16,        \n",
    "               kernel_size=(4, 4),   \n",
    "               activation='relu',     \n",
    "               input_shape=(32, 32, 3)))\n",
    "\n",
    "# Max Pooling Layer\n",
    "cnn.add(MaxPooling2D(pool_size=(2, 2))) \n",
    "\n",
    "# Convolutional Layer\n",
    "cnn.add(Conv2D(1024,\n",
    "               kernel_size=(4, 4),\n",
    "               activation='relu'))\n",
    "\n",
    "# Max Pooling Layer\n",
    "cnn.add(MaxPooling2D(pool_size=(2, 2)))\n",
    "\n",
    "# Convolutional Layer\n",
    "cnn.add(Conv2D(1024,\n",
    "               kernel_size=(4, 4),\n",
    "               activation='relu'))\n",
    "\n",
    "# Max Pooling Layer\n",
    "cnn.add(MaxPooling2D(pool_size=(2, 2)))\n",
    "\n",
    "# Flatten Layer\n",
    "cnn.add(Flatten())\n",
    "\n",
    "# Dense Layer\n",
    "cnn.add(Dense(2048, activation='relu'))\n",
    "\n",
    "# Dropout Regularization Layer\n",
    "cnn.add(Dropout(0.5))\n",
    "\n",
    "# Dense Layer\n",
    "cnn.add(Dense(2048, activation='relu'))\n",
    "\n",
    "# Dropout Regularization Layer\n",
    "cnn.add(Dropout(0.5))\n",
    "\n",
    "# Dense Layer\n",
    "cnn.add(Dense(100, activation='softmax'))\n",
    "\n",
    "# Compile Model\n",
    "cnn.compile(loss='sparse_categorical_crossentropy', # This is used to predict integer targets\n",
    "            optimizer='adam',\n",
    "            metrics=['accuracy'])"
   ]
  },
  {
   "cell_type": "code",
   "execution_count": 63,
   "metadata": {
    "colab": {
     "base_uri": "https://localhost:8080/",
     "height": 374
    },
    "colab_type": "code",
    "executionInfo": {
     "elapsed": 126643,
     "status": "ok",
     "timestamp": 1575505607213,
     "user": {
      "displayName": "Anthony Lathrop",
      "photoUrl": "",
      "userId": "09824446360736258535"
     },
     "user_tz": 480
    },
    "id": "_c3wgnckA1-M",
    "outputId": "82c651d6-bc63-4dc6-88ef-2b51be4f908a"
   },
   "outputs": [
    {
     "name": "stdout",
     "output_type": "stream",
     "text": [
      "Train on 50000 samples, validate on 5000 samples\n",
      "Epoch 1/10\n",
      "50000/50000 [==============================] - 13s 251us/sample - loss: 2.4530 - acc: 0.3580 - val_loss: 2.5193 - val_acc: 0.3462\n",
      "Epoch 2/10\n",
      "50000/50000 [==============================] - 13s 251us/sample - loss: 2.3706 - acc: 0.3731 - val_loss: 2.4780 - val_acc: 0.3744\n",
      "Epoch 3/10\n",
      "50000/50000 [==============================] - 13s 252us/sample - loss: 2.2832 - acc: 0.3910 - val_loss: 2.5626 - val_acc: 0.3498\n",
      "Epoch 4/10\n",
      "50000/50000 [==============================] - 13s 251us/sample - loss: 2.2203 - acc: 0.4039 - val_loss: 2.4505 - val_acc: 0.3740\n",
      "Epoch 5/10\n",
      "50000/50000 [==============================] - 13s 251us/sample - loss: 2.1217 - acc: 0.4251 - val_loss: 2.3914 - val_acc: 0.3862\n",
      "Epoch 6/10\n",
      "50000/50000 [==============================] - 13s 251us/sample - loss: 2.0565 - acc: 0.4419 - val_loss: 2.4014 - val_acc: 0.3878\n",
      "Epoch 7/10\n",
      "50000/50000 [==============================] - 13s 251us/sample - loss: 1.9662 - acc: 0.4591 - val_loss: 2.4375 - val_acc: 0.3818\n",
      "Epoch 8/10\n",
      "50000/50000 [==============================] - 13s 251us/sample - loss: 1.9064 - acc: 0.4725 - val_loss: 2.4698 - val_acc: 0.3812\n",
      "Epoch 9/10\n",
      "50000/50000 [==============================] - 13s 251us/sample - loss: 1.8189 - acc: 0.4908 - val_loss: 2.3735 - val_acc: 0.3950\n",
      "Epoch 10/10\n",
      "50000/50000 [==============================] - 13s 252us/sample - loss: 1.7265 - acc: 0.5132 - val_loss: 2.4168 - val_acc: 0.3988\n"
     ]
    }
   ],
   "source": [
    "# Create History: Predict Fine Classes\n",
    "history_fine = cnn.fit(X_train,\n",
    "                       f_train,\n",
    "                       batch_size=2048,\n",
    "                       validation_data=(X_val, f_val),\n",
    "                       epochs=10,\n",
    "                       verbose=1)"
   ]
  },
  {
   "cell_type": "code",
   "execution_count": 60,
   "metadata": {
    "colab": {
     "base_uri": "https://localhost:8080/",
     "height": 374
    },
    "colab_type": "code",
    "executionInfo": {
     "elapsed": 127430,
     "status": "ok",
     "timestamp": 1575504943316,
     "user": {
      "displayName": "Anthony Lathrop",
      "photoUrl": "",
      "userId": "09824446360736258535"
     },
     "user_tz": 480
    },
    "id": "DTBVx3qVZ0GH",
    "outputId": "3f568fff-a776-428b-a366-e7c6e6eb2b4e"
   },
   "outputs": [
    {
     "name": "stdout",
     "output_type": "stream",
     "text": [
      "Train on 50000 samples, validate on 5000 samples\n",
      "Epoch 1/10\n",
      "50000/50000 [==============================] - 13s 254us/sample - loss: 3.2270 - acc: 0.1292 - val_loss: 2.4439 - val_acc: 0.2562\n",
      "Epoch 2/10\n",
      "50000/50000 [==============================] - 13s 253us/sample - loss: 2.3049 - acc: 0.2938 - val_loss: 2.0501 - val_acc: 0.3686\n",
      "Epoch 3/10\n",
      "50000/50000 [==============================] - 13s 253us/sample - loss: 2.0368 - acc: 0.3699 - val_loss: 1.9066 - val_acc: 0.4066\n",
      "Epoch 4/10\n",
      "50000/50000 [==============================] - 13s 253us/sample - loss: 1.8982 - acc: 0.4100 - val_loss: 1.8647 - val_acc: 0.4200\n",
      "Epoch 5/10\n",
      "50000/50000 [==============================] - 13s 254us/sample - loss: 1.7932 - acc: 0.4392 - val_loss: 1.7391 - val_acc: 0.4506\n",
      "Epoch 6/10\n",
      "50000/50000 [==============================] - 13s 253us/sample - loss: 1.6859 - acc: 0.4726 - val_loss: 1.7665 - val_acc: 0.4504\n",
      "Epoch 7/10\n",
      "50000/50000 [==============================] - 13s 253us/sample - loss: 1.6115 - acc: 0.4919 - val_loss: 1.6642 - val_acc: 0.4754\n",
      "Epoch 8/10\n",
      "50000/50000 [==============================] - 13s 253us/sample - loss: 1.5393 - acc: 0.5141 - val_loss: 1.6583 - val_acc: 0.4836\n",
      "Epoch 9/10\n",
      "50000/50000 [==============================] - 13s 252us/sample - loss: 1.4442 - acc: 0.5430 - val_loss: 1.6147 - val_acc: 0.4966\n",
      "Epoch 10/10\n",
      "50000/50000 [==============================] - 13s 251us/sample - loss: 1.4041 - acc: 0.5526 - val_loss: 1.6117 - val_acc: 0.4998\n"
     ]
    }
   ],
   "source": [
    "# Create History: Predict Coarse Classes\n",
    "history_coarse = cnn.fit(X_train,\n",
    "                         c_train,\n",
    "                         batch_size=2048,\n",
    "                         validation_data=(X_val, c_val),\n",
    "                         epochs=10,\n",
    "                         verbose=1)"
   ]
  },
  {
   "cell_type": "code",
   "execution_count": 0,
   "metadata": {
    "colab": {},
    "colab_type": "code",
    "id": "irHvcXshdQ-F"
   },
   "outputs": [],
   "source": [
    "def plot_cnn_loss(history, figsize=(12, 8), target=\"\"):\n",
    "\n",
    "    # Find the training loss\n",
    "    train_loss = history.history['loss']\n",
    "\n",
    "    # Find the testing loss\n",
    "    test_loss = history.history['val_loss']\n",
    "\n",
    "    # Set the size of the plot\n",
    "    plt.figure(figsize=figsize)\n",
    "\n",
    "    # Plot the training and testing loss\n",
    "    plt.plot(train_loss, label='Training Loss', color='blue')\n",
    "    plt.plot(test_loss, label='Testing Loss', color='orange')\n",
    "\n",
    "    # Set title and axes\n",
    "    plt.title(target + ' Training and Testing Loss vs. Epoch', fontsize = 25)\n",
    "    plt.xlabel('Epoch', fontsize = 18)\n",
    "    plt.ylabel('Sparse Categorical Crossentropy', fontsize = 18)\n",
    "    plt.xticks([0, 1, 2, 3, 4, 5, 6, 7, 8, 9], [1, 2, 3, 4, 5, 6, 7, 8, 9, 10])\n",
    "\n",
    "    # Show the legend\n",
    "    plt.legend(fontsize = 18);"
   ]
  },
  {
   "cell_type": "code",
   "execution_count": 79,
   "metadata": {
    "colab": {
     "base_uri": "https://localhost:8080/",
     "height": 530
    },
    "colab_type": "code",
    "executionInfo": {
     "elapsed": 1080,
     "status": "ok",
     "timestamp": 1575508236690,
     "user": {
      "displayName": "Anthony Lathrop",
      "photoUrl": "",
      "userId": "09824446360736258535"
     },
     "user_tz": 480
    },
    "id": "3o6IbHTllKpg",
    "outputId": "962836de-dfa1-49b3-acc0-f6ed9d2ca11d"
   },
   "outputs": [
    {
     "data": {
      "image/png": "[encoded data removed]",
      "text/plain": [
       "<Figure size 864x576 with 1 Axes>"
      ]
     },
     "metadata": {
      "tags": []
     },
     "output_type": "display_data"
    }
   ],
   "source": [
    "plot_cnn_loss(history_fine, target=\"Fine\")"
   ]
  },
  {
   "cell_type": "code",
   "execution_count": 80,
   "metadata": {
    "colab": {
     "base_uri": "https://localhost:8080/",
     "height": 530
    },
    "colab_type": "code",
    "executionInfo": {
     "elapsed": 1042,
     "status": "ok",
     "timestamp": 1575508240974,
     "user": {
      "displayName": "Anthony Lathrop",
      "photoUrl": "",
      "userId": "09824446360736258535"
     },
     "user_tz": 480
    },
    "id": "avlaGN-tmyBO",
    "outputId": "fc05f82d-c64c-486d-d990-625d76d1b879"
   },
   "outputs": [
    {
     "data": {
      "image/png": "[encoded data removed]",
      "text/plain": [
       "<Figure size 864x576 with 1 Axes>"
      ]
     },
     "metadata": {
      "tags": []
     },
     "output_type": "display_data"
    }
   ],
   "source": [
    "plot_cnn_loss(history_coarse, target=\"Coarse\")"
   ]
  }
 ],
 "metadata": {
  "accelerator": "GPU",
  "colab": {
   "collapsed_sections": [],
   "name": "04_Modeling.ipynb",
   "provenance": [
    {
     "file_id": "17cyzVKOnuopG7zm8ZR3GsGgVFgb2Zyi3",
     "timestamp": 1575498000375
    },
    {
     "file_id": "1jAcOEsYPVfH7oe13OBjcdmslZgboQ_fH",
     "timestamp": 1575415321474
    }
   ]
  },
  "kernelspec": {
   "display_name": "Python 3",
   "language": "python",
   "name": "python3"
  },
  "language_info": {
   "codemirror_mode": {
    "name": "ipython",
    "version": 3
   },
   "file_extension": ".py",
   "mimetype": "text/x-python",
   "name": "python",
   "nbconvert_exporter": "python",
   "pygments_lexer": "ipython3",
   "version": "3.7.3"
  }
 },
 "nbformat": 4,
 "nbformat_minor": 1
}
