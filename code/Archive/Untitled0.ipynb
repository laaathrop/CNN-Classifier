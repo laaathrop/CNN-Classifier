{
  "nbformat": 4,
  "nbformat_minor": 0,
  "metadata": {
    "colab": {
      "name": "Untitled0.ipynb",
      "provenance": [],
      "collapsed_sections": []
    },
    "kernelspec": {
      "name": "python3",
      "display_name": "Python 3"
    },
    "accelerator": "GPU"
  },
  "cells": [
    {
      "cell_type": "code",
      "metadata": {
        "id": "MOKfKSeTcYyR",
        "colab_type": "code",
        "colab": {
          "base_uri": "https://localhost:8080/",
          "height": 63
        },
        "outputId": "630af1db-d9ab-4460-e194-d99a811ad8ad"
      },
      "source": [
        "# Imports\n",
        "import numpy as np\n",
        "import pickle\n",
        "\n",
        "# For functions pertaining to the operating system\n",
        "import os\n",
        "\n",
        "# Module for working with URLs\n",
        "import urllib\n",
        "\n",
        "# For performing operations on zip files\n",
        "import zipfile\n",
        "\n",
        "# Makes it possible to read and write tar archives including gzip, bz2 and lzma compression\n",
        "import tarfile\n",
        "\n",
        "# Module for working with URLs\n",
        "from six.moves import urllib\n",
        "\n",
        "from __future__ import absolute_import\n",
        "from __future__ import division\n",
        "from __future__ import print_function\n",
        "\n",
        "# Deep Learning\n",
        "import tensorflow as tf\n",
        "from tensorflow.contrib.training import HParams\n",
        "from tensorflow.keras import Model\n",
        "from tensorflow.keras.layers import Dense, Conv2D, Activation, Flatten\n",
        "from tensorflow.keras.layers import BatchNormalization, AveragePooling2D, Input\n",
        "from tensorflow.keras.preprocessing.image import ImageDataGenerator\n",
        "\n",
        "# Visualization\n",
        "import itertools\n",
        "from sklearn.metrics import confusion_matrix\n",
        "import matplotlib.pyplot as plt\n",
        "import numpy as np"
      ],
      "execution_count": 1,
      "outputs": [
        {
          "output_type": "display_data",
          "data": {
            "text/html": [
              "<p style=\"color: red;\">\n",
              "The default version of TensorFlow in Colab will soon switch to TensorFlow 2.x.<br>\n",
              "We recommend you <a href=\"https://www.tensorflow.org/guide/migrate\" target=\"_blank\">upgrade</a> now \n",
              "or ensure your notebook will continue to use TensorFlow 1.x via the <code>%tensorflow_version 1.x</code> magic:\n",
              "<a href=\"https://colab.research.google.com/notebooks/tensorflow_version.ipynb\" target=\"_blank\">more info</a>.</p>\n"
            ],
            "text/plain": [
              "<IPython.core.display.HTML object>"
            ]
          },
          "metadata": {
            "tags": []
          }
        }
      ]
    },
    {
      "cell_type": "code",
      "metadata": {
        "id": "8nO3ZOEXgnYe",
        "colab_type": "code",
        "colab": {}
      },
      "source": [
        "# Define hyperparameters\n",
        "params = HParams(\n",
        "    \n",
        "    n_class=10, # Number of classes in the Cifar10 dataset\n",
        "    learning_rate=1e-4, # The learning rate of the neural network\n",
        "    train_batch_size=32, # Training batch size; number of data points in one forward/backward pass\n",
        "    val_batch_size=32, # Batch size for validation; number of data points in one forward/backward pass\n",
        "    test_batch_size=32, # Testing batch size; number of data points in one forward/backward pass\n",
        "    n_epochs=10, # One epoch is equivalent to one forward and one backward pass of all training data points\n",
        "    input_name='input_one', # Name of NN input layer\n",
        "    data_dir='../capstone/data/cifar-10-batches-py', # Path to data\n",
        "    checkpoint_dir='../capstone/code/checkpoints', # Path to a location to save project checkpoints\n",
        "\n",
        ")"
      ],
      "execution_count": 0,
      "outputs": []
    },
    {
      "cell_type": "code",
      "metadata": {
        "id": "1eDiHK5NmxzI",
        "colab_type": "code",
        "colab": {
          "base_uri": "https://localhost:8080/",
          "height": 238
        },
        "outputId": "e4746834-aac9-4c2c-b673-5ed7ab082c4f"
      },
      "source": [
        "! wget https://bin.equinox.io/c/4VmDzA7iaHb/ngrok-stable-linux-amd64.zip\n",
        "! unzip -o ngrok-stable-linux-amd64.zip"
      ],
      "execution_count": 4,
      "outputs": [
        {
          "output_type": "stream",
          "text": [
            "--2019-11-28 01:47:52--  https://bin.equinox.io/c/4VmDzA7iaHb/ngrok-stable-linux-amd64.zip\n",
            "Resolving bin.equinox.io (bin.equinox.io)... 34.193.139.214, 54.164.7.157, 3.82.169.244, ...\n",
            "Connecting to bin.equinox.io (bin.equinox.io)|34.193.139.214|:443... connected.\n",
            "HTTP request sent, awaiting response... 200 OK\n",
            "Length: 13773305 (13M) [application/octet-stream]\n",
            "Saving to: ‘ngrok-stable-linux-amd64.zip’\n",
            "\n",
            "\r          ngrok-sta   0%[                    ]       0  --.-KB/s               \rngrok-stable-linux- 100%[===================>]  13.13M  81.1MB/s    in 0.2s    \n",
            "\n",
            "2019-11-28 01:47:52 (81.1 MB/s) - ‘ngrok-stable-linux-amd64.zip’ saved [13773305/13773305]\n",
            "\n",
            "Archive:  ngrok-stable-linux-amd64.zip\n",
            "  inflating: ngrok                   \n"
          ],
          "name": "stdout"
        }
      ]
    },
    {
      "cell_type": "code",
      "metadata": {
        "id": "TeBP1UdDsZJJ",
        "colab_type": "code",
        "colab": {}
      },
      "source": [
        "!pkill -f ngrok\n",
        "\n",
        "LOG_DIR = '../capstone/code/checkpoints'\n",
        "get_ipython().system_raw(\n",
        "    'tensorboard --logdir {} --host 0.0.0.0 --port 6006 &'\n",
        "    .format(LOG_DIR)\n",
        ")\n",
        "\n",
        "get_ipython().system_raw('./ngrok http 6006 &')"
      ],
      "execution_count": 0,
      "outputs": []
    }
  ]
}